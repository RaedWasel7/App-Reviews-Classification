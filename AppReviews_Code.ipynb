{
  "nbformat": 4,
  "nbformat_minor": 0,
  "metadata": {
    "colab": {
      "name": "ics485_AppReviews_CodeU.ipynb",
      "provenance": [],
      "collapsed_sections": []
    },
    "kernelspec": {
      "name": "python3",
      "display_name": "Python 3"
    },
    "language_info": {
      "name": "python"
    },
    "accelerator": "GPU"
  },
  "cells": [
    {
      "cell_type": "markdown",
      "source": [
        "**importing the libraries**"
      ],
      "metadata": {
        "id": "b4xXBgNaK_OI"
      }
    },
    {
      "cell_type": "code",
      "execution_count": 1,
      "metadata": {
        "colab": {
          "base_uri": "https://localhost:8080/"
        },
        "id": "NQTaXSquN7xM",
        "outputId": "58112ca2-cb7b-4fd7-b94c-e3edd9e0b353"
      },
      "outputs": [
        {
          "output_type": "stream",
          "name": "stdout",
          "text": [
            "[nltk_data] Downloading package words to /root/nltk_data...\n",
            "[nltk_data]   Package words is already up-to-date!\n",
            "[nltk_data] Downloading package stopwords to /root/nltk_data...\n",
            "[nltk_data]   Package stopwords is already up-to-date!\n",
            "[nltk_data] Downloading package punkt to /root/nltk_data...\n",
            "[nltk_data]   Package punkt is already up-to-date!\n"
          ]
        },
        {
          "output_type": "execute_result",
          "data": {
            "text/plain": [
              "True"
            ]
          },
          "metadata": {},
          "execution_count": 1
        }
      ],
      "source": [
        "import numpy as np\n",
        "import pandas as pd\n",
        "import tensorflow as tf\n",
        "import matplotlib.pyplot as plt\n",
        "from sklearn.model_selection import train_test_split\n",
        "from sklearn.preprocessing import LabelBinarizer, LabelEncoder\n",
        "import string\n",
        "import re\n",
        "from sklearn.feature_extraction.text import TfidfVectorizer\n",
        "from imblearn.over_sampling import  RandomOverSampler\n",
        "import nltk\n",
        "from nltk.tokenize import word_tokenize\n",
        "from nltk.corpus import stopwords\n",
        "nltk.download('words')\n",
        "nltk.download('stopwords')\n",
        "nltk.download('punkt')"
      ]
    },
    {
      "cell_type": "markdown",
      "source": [
        "**Reading the Raw Data from the csv file**"
      ],
      "metadata": {
        "id": "JzLvDaPSLDLB"
      }
    },
    {
      "cell_type": "code",
      "source": [
        "raw_data = pd.read_csv('./AppReviews-FourClasses.csv')\n",
        "display(raw_data.head())"
      ],
      "metadata": {
        "colab": {
          "base_uri": "https://localhost:8080/",
          "height": 204
        },
        "id": "RhG5WwUzOWmE",
        "outputId": "1cdfeb9e-a87a-47a8-9032-74bd97748fc4"
      },
      "execution_count": 3,
      "outputs": [
        {
          "output_type": "display_data",
          "data": {
            "text/html": [
              "\n",
              "  <div id=\"df-58c5bb15-1a0a-4888-9776-ac06343b354f\">\n",
              "    <div class=\"colab-df-container\">\n",
              "      <div>\n",
              "<style scoped>\n",
              "    .dataframe tbody tr th:only-of-type {\n",
              "        vertical-align: middle;\n",
              "    }\n",
              "\n",
              "    .dataframe tbody tr th {\n",
              "        vertical-align: top;\n",
              "    }\n",
              "\n",
              "    .dataframe thead th {\n",
              "        text-align: right;\n",
              "    }\n",
              "</style>\n",
              "<table border=\"1\" class=\"dataframe\">\n",
              "  <thead>\n",
              "    <tr style=\"text-align: right;\">\n",
              "      <th></th>\n",
              "      <th>Review</th>\n",
              "      <th>label</th>\n",
              "    </tr>\n",
              "  </thead>\n",
              "  <tbody>\n",
              "    <tr>\n",
              "      <th>0</th>\n",
              "      <td>Besides the occasional crash, this is an amazi...</td>\n",
              "      <td>Bug</td>\n",
              "    </tr>\n",
              "    <tr>\n",
              "      <th>1</th>\n",
              "      <td>This could be a great app if it was predictabl...</td>\n",
              "      <td>Bug</td>\n",
              "    </tr>\n",
              "    <tr>\n",
              "      <th>2</th>\n",
              "      <td>I can't open since the last 2 updates Pop-ups ...</td>\n",
              "      <td>Bug</td>\n",
              "    </tr>\n",
              "    <tr>\n",
              "      <th>3</th>\n",
              "      <td>Use to love this app but it's not working afte...</td>\n",
              "      <td>Bug</td>\n",
              "    </tr>\n",
              "    <tr>\n",
              "      <th>4</th>\n",
              "      <td>Urrrrm\\tAfter my third re installing, it final...</td>\n",
              "      <td>Bug</td>\n",
              "    </tr>\n",
              "  </tbody>\n",
              "</table>\n",
              "</div>\n",
              "      <button class=\"colab-df-convert\" onclick=\"convertToInteractive('df-58c5bb15-1a0a-4888-9776-ac06343b354f')\"\n",
              "              title=\"Convert this dataframe to an interactive table.\"\n",
              "              style=\"display:none;\">\n",
              "        \n",
              "  <svg xmlns=\"http://www.w3.org/2000/svg\" height=\"24px\"viewBox=\"0 0 24 24\"\n",
              "       width=\"24px\">\n",
              "    <path d=\"M0 0h24v24H0V0z\" fill=\"none\"/>\n",
              "    <path d=\"M18.56 5.44l.94 2.06.94-2.06 2.06-.94-2.06-.94-.94-2.06-.94 2.06-2.06.94zm-11 1L8.5 8.5l.94-2.06 2.06-.94-2.06-.94L8.5 2.5l-.94 2.06-2.06.94zm10 10l.94 2.06.94-2.06 2.06-.94-2.06-.94-.94-2.06-.94 2.06-2.06.94z\"/><path d=\"M17.41 7.96l-1.37-1.37c-.4-.4-.92-.59-1.43-.59-.52 0-1.04.2-1.43.59L10.3 9.45l-7.72 7.72c-.78.78-.78 2.05 0 2.83L4 21.41c.39.39.9.59 1.41.59.51 0 1.02-.2 1.41-.59l7.78-7.78 2.81-2.81c.8-.78.8-2.07 0-2.86zM5.41 20L4 18.59l7.72-7.72 1.47 1.35L5.41 20z\"/>\n",
              "  </svg>\n",
              "      </button>\n",
              "      \n",
              "  <style>\n",
              "    .colab-df-container {\n",
              "      display:flex;\n",
              "      flex-wrap:wrap;\n",
              "      gap: 12px;\n",
              "    }\n",
              "\n",
              "    .colab-df-convert {\n",
              "      background-color: #E8F0FE;\n",
              "      border: none;\n",
              "      border-radius: 50%;\n",
              "      cursor: pointer;\n",
              "      display: none;\n",
              "      fill: #1967D2;\n",
              "      height: 32px;\n",
              "      padding: 0 0 0 0;\n",
              "      width: 32px;\n",
              "    }\n",
              "\n",
              "    .colab-df-convert:hover {\n",
              "      background-color: #E2EBFA;\n",
              "      box-shadow: 0px 1px 2px rgba(60, 64, 67, 0.3), 0px 1px 3px 1px rgba(60, 64, 67, 0.15);\n",
              "      fill: #174EA6;\n",
              "    }\n",
              "\n",
              "    [theme=dark] .colab-df-convert {\n",
              "      background-color: #3B4455;\n",
              "      fill: #D2E3FC;\n",
              "    }\n",
              "\n",
              "    [theme=dark] .colab-df-convert:hover {\n",
              "      background-color: #434B5C;\n",
              "      box-shadow: 0px 1px 3px 1px rgba(0, 0, 0, 0.15);\n",
              "      filter: drop-shadow(0px 1px 2px rgba(0, 0, 0, 0.3));\n",
              "      fill: #FFFFFF;\n",
              "    }\n",
              "  </style>\n",
              "\n",
              "      <script>\n",
              "        const buttonEl =\n",
              "          document.querySelector('#df-58c5bb15-1a0a-4888-9776-ac06343b354f button.colab-df-convert');\n",
              "        buttonEl.style.display =\n",
              "          google.colab.kernel.accessAllowed ? 'block' : 'none';\n",
              "\n",
              "        async function convertToInteractive(key) {\n",
              "          const element = document.querySelector('#df-58c5bb15-1a0a-4888-9776-ac06343b354f');\n",
              "          const dataTable =\n",
              "            await google.colab.kernel.invokeFunction('convertToInteractive',\n",
              "                                                     [key], {});\n",
              "          if (!dataTable) return;\n",
              "\n",
              "          const docLinkHtml = 'Like what you see? Visit the ' +\n",
              "            '<a target=\"_blank\" href=https://colab.research.google.com/notebooks/data_table.ipynb>data table notebook</a>'\n",
              "            + ' to learn more about interactive tables.';\n",
              "          element.innerHTML = '';\n",
              "          dataTable['output_type'] = 'display_data';\n",
              "          await google.colab.output.renderOutput(dataTable, element);\n",
              "          const docLink = document.createElement('div');\n",
              "          docLink.innerHTML = docLinkHtml;\n",
              "          element.appendChild(docLink);\n",
              "        }\n",
              "      </script>\n",
              "    </div>\n",
              "  </div>\n",
              "  "
            ],
            "text/plain": [
              "                                              Review label\n",
              "0  Besides the occasional crash, this is an amazi...   Bug\n",
              "1  This could be a great app if it was predictabl...   Bug\n",
              "2  I can't open since the last 2 updates Pop-ups ...   Bug\n",
              "3  Use to love this app but it's not working afte...   Bug\n",
              "4  Urrrrm\\tAfter my third re installing, it final...   Bug"
            ]
          },
          "metadata": {}
        }
      ]
    },
    {
      "cell_type": "markdown",
      "source": [
        "**Raw data set distribution:**"
      ],
      "metadata": {
        "id": "d2MRgwcXLSh8"
      }
    },
    {
      "cell_type": "code",
      "source": [
        "x_data_raw = raw_data['Review']\n",
        "y_data_raw = raw_data['label']\n",
        "#Compute the number of examples of each label\n",
        "label_name, label_counts = np.unique(y_data_raw, return_counts=True)\n",
        "print(\"Raw data set distribution:\")\n",
        "print(dict(zip(label_name, label_counts)))"
      ],
      "metadata": {
        "colab": {
          "base_uri": "https://localhost:8080/"
        },
        "id": "GI0aXMx3OXpN",
        "outputId": "0f41dc19-0d46-4ba4-8197-39ad9eb8450c"
      },
      "execution_count": 4,
      "outputs": [
        {
          "output_type": "stream",
          "name": "stdout",
          "text": [
            "Raw data set distribution:\n",
            "{'Bug': 370, 'Feature': 295, 'Rating': 2461, 'UserExperience': 607}\n"
          ]
        }
      ]
    },
    {
      "cell_type": "markdown",
      "source": [
        "**Convert every letter to lower case**"
      ],
      "metadata": {
        "id": "yvIoi56NLYnQ"
      }
    },
    {
      "cell_type": "code",
      "source": [
        "x_data_raw = x_data_raw.str.lower()"
      ],
      "metadata": {
        "id": "xXfwbT8ERo-_"
      },
      "execution_count": 5,
      "outputs": []
    },
    {
      "cell_type": "code",
      "source": [
        "x_data_raw.head(5)"
      ],
      "metadata": {
        "colab": {
          "base_uri": "https://localhost:8080/"
        },
        "id": "q89BfJwKT4Ej",
        "outputId": "860ad0b1-2482-40fd-8802-bb488d59925a"
      },
      "execution_count": 6,
      "outputs": [
        {
          "output_type": "execute_result",
          "data": {
            "text/plain": [
              "0    besides the occasional crash, this is an amazi...\n",
              "1    this could be a great app if it was predictabl...\n",
              "2    i can't open since the last 2 updates pop-ups ...\n",
              "3    use to love this app but it's not working afte...\n",
              "4    urrrrm\\tafter my third re installing, it final...\n",
              "Name: Review, dtype: object"
            ]
          },
          "metadata": {},
          "execution_count": 6
        }
      ]
    },
    {
      "cell_type": "markdown",
      "source": [
        "**Remove the punctuations in the reviews**"
      ],
      "metadata": {
        "id": "1fF5Q9XnL8hF"
      }
    },
    {
      "cell_type": "code",
      "source": [
        "def remove_punct(text):\n",
        "  for i in range(len(text)):\n",
        "    text = \"\".join([char for char in text if char not in string.punctuation])\n",
        "    text = re.sub('[0-9]+', '', text)\n",
        "  return text\n",
        "  \n",
        "x_data_raw= x_data_raw.apply(remove_punct)"
      ],
      "metadata": {
        "id": "ETRJScdgUP80"
      },
      "execution_count": 7,
      "outputs": []
    },
    {
      "cell_type": "code",
      "source": [
        "x_data_raw.head(5)"
      ],
      "metadata": {
        "colab": {
          "base_uri": "https://localhost:8080/"
        },
        "id": "xJ_-uJtcUYFa",
        "outputId": "95132cc2-321b-4b41-cfe4-5b5fa51e8749"
      },
      "execution_count": 8,
      "outputs": [
        {
          "output_type": "execute_result",
          "data": {
            "text/plain": [
              "0    besides the occasional crash this is an amazin...\n",
              "1    this could be a great app if it was predictabl...\n",
              "2    i cant open since the last  updates popups go ...\n",
              "3    use to love this app but its not working after...\n",
              "4    urrrrm\\tafter my third re installing it finall...\n",
              "Name: Review, dtype: object"
            ]
          },
          "metadata": {},
          "execution_count": 8
        }
      ]
    },
    {
      "cell_type": "markdown",
      "source": [
        "**Remove the stop words in the reviews**"
      ],
      "metadata": {
        "id": "i8MO7GYAMSmB"
      }
    },
    {
      "cell_type": "code",
      "source": [
        "english_stop_words = stopwords.words('english')\n",
        "x_data_raw= x_data_raw.apply(lambda x: ' '.join([word for word in x.split() if word not in (english_stop_words)]))"
      ],
      "metadata": {
        "id": "z_h-NAPBV834"
      },
      "execution_count": 9,
      "outputs": []
    },
    {
      "cell_type": "code",
      "source": [
        "x_data_raw.head(5)"
      ],
      "metadata": {
        "colab": {
          "base_uri": "https://localhost:8080/"
        },
        "id": "QDj31-KWTaaW",
        "outputId": "4e2ba5ec-906b-4818-82b1-9ff0896a767f"
      },
      "execution_count": 10,
      "outputs": [
        {
          "output_type": "execute_result",
          "data": {
            "text/plain": [
              "0    besides occasional crash amazing product tons ...\n",
              "1    could great app predictable full bugs unpredic...\n",
              "2    cant open since last updates popups go crazy i...\n",
              "3    use love app working new update pages wont scr...\n",
              "4    urrrrm third installing finally scenery hand b...\n",
              "Name: Review, dtype: object"
            ]
          },
          "metadata": {},
          "execution_count": 10
        }
      ]
    },
    {
      "cell_type": "markdown",
      "source": [
        "**split into train 70%-   val 15%-  test 15%**"
      ],
      "metadata": {
        "id": "J4NMVz6UNsao"
      }
    },
    {
      "cell_type": "code",
      "source": [
        "# split into train 70%-val 15%-test 15% \n",
        "x_train, x_test, y_train, y_test = train_test_split(x_data_raw, y_data_raw, train_size=0.85, random_state=324534, stratify=y_data_raw)\n",
        "x_train, x_val, y_train, y_val = train_test_split(x_train, y_train, train_size=0.8237, random_state=324534, stratify=y_train)"
      ],
      "metadata": {
        "id": "iI3Cqo48mbTF"
      },
      "execution_count": 11,
      "outputs": []
    },
    {
      "cell_type": "markdown",
      "source": [
        "**Vectorize the data **"
      ],
      "metadata": {
        "id": "7URhmfeuA46i"
      }
    },
    {
      "cell_type": "code",
      "source": [
        "\n",
        "Vectorizerr = TfidfVectorizer(stop_words=None, max_features=100000)\n",
        "\n",
        "x_train = Vectorizerr.fit_transform(x_train)\n",
        "x_val = Vectorizerr.transform(x_val)\n",
        "x_test = Vectorizerr.transform(x_test)"
      ],
      "metadata": {
        "id": "oBdRuFtmA4Em"
      },
      "execution_count": 12,
      "outputs": []
    },
    {
      "cell_type": "markdown",
      "source": [
        "**Oversampling to balance the Training data**"
      ],
      "metadata": {
        "id": "vpHkdhfJNm_W"
      }
    },
    {
      "cell_type": "code",
      "source": [
        "ros = RandomOverSampler(random_state=777)\n",
        "x_train, y_train = ros.fit_resample(x_train, y_train)\n",
        "\n",
        "label_name, label_counts = np.unique(y_train, return_counts=True)\n",
        "print(\"Train data set distribution:\")\n",
        "print(dict(zip(label_name, label_counts)))\n",
        "\n",
        "\n",
        "pd.DataFrame(x_train.todense(), columns=Vectorizerr.get_feature_names())"
      ],
      "metadata": {
        "colab": {
          "base_uri": "https://localhost:8080/",
          "height": 551
        },
        "id": "YCVg4vBu_xqN",
        "outputId": "9feacd34-dd3c-4b70-f904-19448dbe5ca3"
      },
      "execution_count": 13,
      "outputs": [
        {
          "output_type": "stream",
          "name": "stdout",
          "text": [
            "Train data set distribution:\n",
            "{'Bug': 1723, 'Feature': 1723, 'Rating': 1723, 'UserExperience': 1723}\n"
          ]
        },
        {
          "output_type": "stream",
          "name": "stderr",
          "text": [
            "/usr/local/lib/python3.7/dist-packages/sklearn/utils/deprecation.py:87: FutureWarning: Function get_feature_names is deprecated; get_feature_names is deprecated in 1.0 and will be removed in 1.2. Please use get_feature_names_out instead.\n",
            "  warnings.warn(msg, category=FutureWarning)\n"
          ]
        },
        {
          "output_type": "execute_result",
          "data": {
            "text/html": [
              "\n",
              "  <div id=\"df-a30d0004-c33c-4ab3-96bb-ea82c2588f0d\">\n",
              "    <div class=\"colab-df-container\">\n",
              "      <div>\n",
              "<style scoped>\n",
              "    .dataframe tbody tr th:only-of-type {\n",
              "        vertical-align: middle;\n",
              "    }\n",
              "\n",
              "    .dataframe tbody tr th {\n",
              "        vertical-align: top;\n",
              "    }\n",
              "\n",
              "    .dataframe thead th {\n",
              "        text-align: right;\n",
              "    }\n",
              "</style>\n",
              "<table border=\"1\" class=\"dataframe\">\n",
              "  <thead>\n",
              "    <tr style=\"text-align: right;\">\n",
              "      <th></th>\n",
              "      <th>aakaash</th>\n",
              "      <th>aap</th>\n",
              "      <th>aaps</th>\n",
              "      <th>abandoned</th>\n",
              "      <th>abdolutely</th>\n",
              "      <th>abilities</th>\n",
              "      <th>ability</th>\n",
              "      <th>able</th>\n",
              "      <th>abomination</th>\n",
              "      <th>abreast</th>\n",
              "      <th>abroad</th>\n",
              "      <th>absence</th>\n",
              "      <th>absolute</th>\n",
              "      <th>absolutely</th>\n",
              "      <th>abstract</th>\n",
              "      <th>abu</th>\n",
              "      <th>abysmal</th>\n",
              "      <th>accepted</th>\n",
              "      <th>access</th>\n",
              "      <th>accessed</th>\n",
              "      <th>accessibility</th>\n",
              "      <th>accessible</th>\n",
              "      <th>accessing</th>\n",
              "      <th>accesss</th>\n",
              "      <th>accidentally</th>\n",
              "      <th>accomplish</th>\n",
              "      <th>account</th>\n",
              "      <th>accounts</th>\n",
              "      <th>accurate</th>\n",
              "      <th>accurately</th>\n",
              "      <th>ace</th>\n",
              "      <th>achievement</th>\n",
              "      <th>acknowledge</th>\n",
              "      <th>acls</th>\n",
              "      <th>acquire</th>\n",
              "      <th>acro</th>\n",
              "      <th>across</th>\n",
              "      <th>acrossloved</th>\n",
              "      <th>act</th>\n",
              "      <th>actions</th>\n",
              "      <th>...</th>\n",
              "      <th>xml</th>\n",
              "      <th>xolo</th>\n",
              "      <th>xoxo</th>\n",
              "      <th>xperia</th>\n",
              "      <th>xx</th>\n",
              "      <th>ya</th>\n",
              "      <th>yaaay</th>\n",
              "      <th>yaar</th>\n",
              "      <th>yardage</th>\n",
              "      <th>yards</th>\n",
              "      <th>yay</th>\n",
              "      <th>yea</th>\n",
              "      <th>yeah</th>\n",
              "      <th>year</th>\n",
              "      <th>years</th>\n",
              "      <th>yeh</th>\n",
              "      <th>yehh</th>\n",
              "      <th>yellow</th>\n",
              "      <th>yelp</th>\n",
              "      <th>yes</th>\n",
              "      <th>yesterday</th>\n",
              "      <th>yet</th>\n",
              "      <th>yha</th>\n",
              "      <th>yhu</th>\n",
              "      <th>yo</th>\n",
              "      <th>yojimbo</th>\n",
              "      <th>youll</th>\n",
              "      <th>youre</th>\n",
              "      <th>youtube</th>\n",
              "      <th>youve</th>\n",
              "      <th>yr</th>\n",
              "      <th>yuo</th>\n",
              "      <th>zakas</th>\n",
              "      <th>zen</th>\n",
              "      <th>zero</th>\n",
              "      <th>zip</th>\n",
              "      <th>zone</th>\n",
              "      <th>zoom</th>\n",
              "      <th>zte</th>\n",
              "      <th>zzzz</th>\n",
              "    </tr>\n",
              "  </thead>\n",
              "  <tbody>\n",
              "    <tr>\n",
              "      <th>0</th>\n",
              "      <td>0.0</td>\n",
              "      <td>0.0</td>\n",
              "      <td>0.0</td>\n",
              "      <td>0.0</td>\n",
              "      <td>0.0</td>\n",
              "      <td>0.0</td>\n",
              "      <td>0.0</td>\n",
              "      <td>0.0</td>\n",
              "      <td>0.0</td>\n",
              "      <td>0.0</td>\n",
              "      <td>0.0</td>\n",
              "      <td>0.0</td>\n",
              "      <td>0.0</td>\n",
              "      <td>0.0</td>\n",
              "      <td>0.0</td>\n",
              "      <td>0.0</td>\n",
              "      <td>0.0</td>\n",
              "      <td>0.0</td>\n",
              "      <td>0.0</td>\n",
              "      <td>0.0</td>\n",
              "      <td>0.0</td>\n",
              "      <td>0.0</td>\n",
              "      <td>0.0</td>\n",
              "      <td>0.0</td>\n",
              "      <td>0.0</td>\n",
              "      <td>0.0</td>\n",
              "      <td>0.0</td>\n",
              "      <td>0.0</td>\n",
              "      <td>0.0</td>\n",
              "      <td>0.0</td>\n",
              "      <td>0.0</td>\n",
              "      <td>0.0</td>\n",
              "      <td>0.0</td>\n",
              "      <td>0.0</td>\n",
              "      <td>0.0</td>\n",
              "      <td>0.0</td>\n",
              "      <td>0.0</td>\n",
              "      <td>0.0</td>\n",
              "      <td>0.0</td>\n",
              "      <td>0.0</td>\n",
              "      <td>...</td>\n",
              "      <td>0.0</td>\n",
              "      <td>0.0</td>\n",
              "      <td>0.0</td>\n",
              "      <td>0.0</td>\n",
              "      <td>0.0</td>\n",
              "      <td>0.0</td>\n",
              "      <td>0.0</td>\n",
              "      <td>0.0</td>\n",
              "      <td>0.0</td>\n",
              "      <td>0.0</td>\n",
              "      <td>0.0</td>\n",
              "      <td>0.0</td>\n",
              "      <td>0.0</td>\n",
              "      <td>0.0</td>\n",
              "      <td>0.0</td>\n",
              "      <td>0.0</td>\n",
              "      <td>0.0</td>\n",
              "      <td>0.0</td>\n",
              "      <td>0.0</td>\n",
              "      <td>0.0</td>\n",
              "      <td>0.0</td>\n",
              "      <td>0.0</td>\n",
              "      <td>0.0</td>\n",
              "      <td>0.0</td>\n",
              "      <td>0.0</td>\n",
              "      <td>0.0</td>\n",
              "      <td>0.0</td>\n",
              "      <td>0.0</td>\n",
              "      <td>0.0</td>\n",
              "      <td>0.0</td>\n",
              "      <td>0.0</td>\n",
              "      <td>0.0</td>\n",
              "      <td>0.0</td>\n",
              "      <td>0.0</td>\n",
              "      <td>0.0</td>\n",
              "      <td>0.0</td>\n",
              "      <td>0.0</td>\n",
              "      <td>0.0</td>\n",
              "      <td>0.0</td>\n",
              "      <td>0.0</td>\n",
              "    </tr>\n",
              "    <tr>\n",
              "      <th>1</th>\n",
              "      <td>0.0</td>\n",
              "      <td>0.0</td>\n",
              "      <td>0.0</td>\n",
              "      <td>0.0</td>\n",
              "      <td>0.0</td>\n",
              "      <td>0.0</td>\n",
              "      <td>0.0</td>\n",
              "      <td>0.0</td>\n",
              "      <td>0.0</td>\n",
              "      <td>0.0</td>\n",
              "      <td>0.0</td>\n",
              "      <td>0.0</td>\n",
              "      <td>0.0</td>\n",
              "      <td>0.0</td>\n",
              "      <td>0.0</td>\n",
              "      <td>0.0</td>\n",
              "      <td>0.0</td>\n",
              "      <td>0.0</td>\n",
              "      <td>0.0</td>\n",
              "      <td>0.0</td>\n",
              "      <td>0.0</td>\n",
              "      <td>0.0</td>\n",
              "      <td>0.0</td>\n",
              "      <td>0.0</td>\n",
              "      <td>0.0</td>\n",
              "      <td>0.0</td>\n",
              "      <td>0.0</td>\n",
              "      <td>0.0</td>\n",
              "      <td>0.0</td>\n",
              "      <td>0.0</td>\n",
              "      <td>0.0</td>\n",
              "      <td>0.0</td>\n",
              "      <td>0.0</td>\n",
              "      <td>0.0</td>\n",
              "      <td>0.0</td>\n",
              "      <td>0.0</td>\n",
              "      <td>0.0</td>\n",
              "      <td>0.0</td>\n",
              "      <td>0.0</td>\n",
              "      <td>0.0</td>\n",
              "      <td>...</td>\n",
              "      <td>0.0</td>\n",
              "      <td>0.0</td>\n",
              "      <td>0.0</td>\n",
              "      <td>0.0</td>\n",
              "      <td>0.0</td>\n",
              "      <td>0.0</td>\n",
              "      <td>0.0</td>\n",
              "      <td>0.0</td>\n",
              "      <td>0.0</td>\n",
              "      <td>0.0</td>\n",
              "      <td>0.0</td>\n",
              "      <td>0.0</td>\n",
              "      <td>0.0</td>\n",
              "      <td>0.0</td>\n",
              "      <td>0.0</td>\n",
              "      <td>0.0</td>\n",
              "      <td>0.0</td>\n",
              "      <td>0.0</td>\n",
              "      <td>0.0</td>\n",
              "      <td>0.0</td>\n",
              "      <td>0.0</td>\n",
              "      <td>0.0</td>\n",
              "      <td>0.0</td>\n",
              "      <td>0.0</td>\n",
              "      <td>0.0</td>\n",
              "      <td>0.0</td>\n",
              "      <td>0.0</td>\n",
              "      <td>0.0</td>\n",
              "      <td>0.0</td>\n",
              "      <td>0.0</td>\n",
              "      <td>0.0</td>\n",
              "      <td>0.0</td>\n",
              "      <td>0.0</td>\n",
              "      <td>0.0</td>\n",
              "      <td>0.0</td>\n",
              "      <td>0.0</td>\n",
              "      <td>0.0</td>\n",
              "      <td>0.0</td>\n",
              "      <td>0.0</td>\n",
              "      <td>0.0</td>\n",
              "    </tr>\n",
              "    <tr>\n",
              "      <th>2</th>\n",
              "      <td>0.0</td>\n",
              "      <td>0.0</td>\n",
              "      <td>0.0</td>\n",
              "      <td>0.0</td>\n",
              "      <td>0.0</td>\n",
              "      <td>0.0</td>\n",
              "      <td>0.0</td>\n",
              "      <td>0.0</td>\n",
              "      <td>0.0</td>\n",
              "      <td>0.0</td>\n",
              "      <td>0.0</td>\n",
              "      <td>0.0</td>\n",
              "      <td>0.0</td>\n",
              "      <td>0.0</td>\n",
              "      <td>0.0</td>\n",
              "      <td>0.0</td>\n",
              "      <td>0.0</td>\n",
              "      <td>0.0</td>\n",
              "      <td>0.0</td>\n",
              "      <td>0.0</td>\n",
              "      <td>0.0</td>\n",
              "      <td>0.0</td>\n",
              "      <td>0.0</td>\n",
              "      <td>0.0</td>\n",
              "      <td>0.0</td>\n",
              "      <td>0.0</td>\n",
              "      <td>0.0</td>\n",
              "      <td>0.0</td>\n",
              "      <td>0.0</td>\n",
              "      <td>0.0</td>\n",
              "      <td>0.0</td>\n",
              "      <td>0.0</td>\n",
              "      <td>0.0</td>\n",
              "      <td>0.0</td>\n",
              "      <td>0.0</td>\n",
              "      <td>0.0</td>\n",
              "      <td>0.0</td>\n",
              "      <td>0.0</td>\n",
              "      <td>0.0</td>\n",
              "      <td>0.0</td>\n",
              "      <td>...</td>\n",
              "      <td>0.0</td>\n",
              "      <td>0.0</td>\n",
              "      <td>0.0</td>\n",
              "      <td>0.0</td>\n",
              "      <td>0.0</td>\n",
              "      <td>0.0</td>\n",
              "      <td>0.0</td>\n",
              "      <td>0.0</td>\n",
              "      <td>0.0</td>\n",
              "      <td>0.0</td>\n",
              "      <td>0.0</td>\n",
              "      <td>0.0</td>\n",
              "      <td>0.0</td>\n",
              "      <td>0.0</td>\n",
              "      <td>0.0</td>\n",
              "      <td>0.0</td>\n",
              "      <td>0.0</td>\n",
              "      <td>0.0</td>\n",
              "      <td>0.0</td>\n",
              "      <td>0.0</td>\n",
              "      <td>0.0</td>\n",
              "      <td>0.0</td>\n",
              "      <td>0.0</td>\n",
              "      <td>0.0</td>\n",
              "      <td>0.0</td>\n",
              "      <td>0.0</td>\n",
              "      <td>0.0</td>\n",
              "      <td>0.0</td>\n",
              "      <td>0.0</td>\n",
              "      <td>0.0</td>\n",
              "      <td>0.0</td>\n",
              "      <td>0.0</td>\n",
              "      <td>0.0</td>\n",
              "      <td>0.0</td>\n",
              "      <td>0.0</td>\n",
              "      <td>0.0</td>\n",
              "      <td>0.0</td>\n",
              "      <td>0.0</td>\n",
              "      <td>0.0</td>\n",
              "      <td>0.0</td>\n",
              "    </tr>\n",
              "    <tr>\n",
              "      <th>3</th>\n",
              "      <td>0.0</td>\n",
              "      <td>0.0</td>\n",
              "      <td>0.0</td>\n",
              "      <td>0.0</td>\n",
              "      <td>0.0</td>\n",
              "      <td>0.0</td>\n",
              "      <td>0.0</td>\n",
              "      <td>0.0</td>\n",
              "      <td>0.0</td>\n",
              "      <td>0.0</td>\n",
              "      <td>0.0</td>\n",
              "      <td>0.0</td>\n",
              "      <td>0.0</td>\n",
              "      <td>0.0</td>\n",
              "      <td>0.0</td>\n",
              "      <td>0.0</td>\n",
              "      <td>0.0</td>\n",
              "      <td>0.0</td>\n",
              "      <td>0.0</td>\n",
              "      <td>0.0</td>\n",
              "      <td>0.0</td>\n",
              "      <td>0.0</td>\n",
              "      <td>0.0</td>\n",
              "      <td>0.0</td>\n",
              "      <td>0.0</td>\n",
              "      <td>0.0</td>\n",
              "      <td>0.0</td>\n",
              "      <td>0.0</td>\n",
              "      <td>0.0</td>\n",
              "      <td>0.0</td>\n",
              "      <td>0.0</td>\n",
              "      <td>0.0</td>\n",
              "      <td>0.0</td>\n",
              "      <td>0.0</td>\n",
              "      <td>0.0</td>\n",
              "      <td>0.0</td>\n",
              "      <td>0.0</td>\n",
              "      <td>0.0</td>\n",
              "      <td>0.0</td>\n",
              "      <td>0.0</td>\n",
              "      <td>...</td>\n",
              "      <td>0.0</td>\n",
              "      <td>0.0</td>\n",
              "      <td>0.0</td>\n",
              "      <td>0.0</td>\n",
              "      <td>0.0</td>\n",
              "      <td>0.0</td>\n",
              "      <td>0.0</td>\n",
              "      <td>0.0</td>\n",
              "      <td>0.0</td>\n",
              "      <td>0.0</td>\n",
              "      <td>0.0</td>\n",
              "      <td>0.0</td>\n",
              "      <td>0.0</td>\n",
              "      <td>0.0</td>\n",
              "      <td>0.0</td>\n",
              "      <td>0.0</td>\n",
              "      <td>0.0</td>\n",
              "      <td>0.0</td>\n",
              "      <td>0.0</td>\n",
              "      <td>0.0</td>\n",
              "      <td>0.0</td>\n",
              "      <td>0.0</td>\n",
              "      <td>0.0</td>\n",
              "      <td>0.0</td>\n",
              "      <td>0.0</td>\n",
              "      <td>0.0</td>\n",
              "      <td>0.0</td>\n",
              "      <td>0.0</td>\n",
              "      <td>0.0</td>\n",
              "      <td>0.0</td>\n",
              "      <td>0.0</td>\n",
              "      <td>0.0</td>\n",
              "      <td>0.0</td>\n",
              "      <td>0.0</td>\n",
              "      <td>0.0</td>\n",
              "      <td>0.0</td>\n",
              "      <td>0.0</td>\n",
              "      <td>0.0</td>\n",
              "      <td>0.0</td>\n",
              "      <td>0.0</td>\n",
              "    </tr>\n",
              "    <tr>\n",
              "      <th>4</th>\n",
              "      <td>0.0</td>\n",
              "      <td>0.0</td>\n",
              "      <td>0.0</td>\n",
              "      <td>0.0</td>\n",
              "      <td>0.0</td>\n",
              "      <td>0.0</td>\n",
              "      <td>0.0</td>\n",
              "      <td>0.0</td>\n",
              "      <td>0.0</td>\n",
              "      <td>0.0</td>\n",
              "      <td>0.0</td>\n",
              "      <td>0.0</td>\n",
              "      <td>0.0</td>\n",
              "      <td>0.0</td>\n",
              "      <td>0.0</td>\n",
              "      <td>0.0</td>\n",
              "      <td>0.0</td>\n",
              "      <td>0.0</td>\n",
              "      <td>0.0</td>\n",
              "      <td>0.0</td>\n",
              "      <td>0.0</td>\n",
              "      <td>0.0</td>\n",
              "      <td>0.0</td>\n",
              "      <td>0.0</td>\n",
              "      <td>0.0</td>\n",
              "      <td>0.0</td>\n",
              "      <td>0.0</td>\n",
              "      <td>0.0</td>\n",
              "      <td>0.0</td>\n",
              "      <td>0.0</td>\n",
              "      <td>0.0</td>\n",
              "      <td>0.0</td>\n",
              "      <td>0.0</td>\n",
              "      <td>0.0</td>\n",
              "      <td>0.0</td>\n",
              "      <td>0.0</td>\n",
              "      <td>0.0</td>\n",
              "      <td>0.0</td>\n",
              "      <td>0.0</td>\n",
              "      <td>0.0</td>\n",
              "      <td>...</td>\n",
              "      <td>0.0</td>\n",
              "      <td>0.0</td>\n",
              "      <td>0.0</td>\n",
              "      <td>0.0</td>\n",
              "      <td>0.0</td>\n",
              "      <td>0.0</td>\n",
              "      <td>0.0</td>\n",
              "      <td>0.0</td>\n",
              "      <td>0.0</td>\n",
              "      <td>0.0</td>\n",
              "      <td>0.0</td>\n",
              "      <td>0.0</td>\n",
              "      <td>0.0</td>\n",
              "      <td>0.0</td>\n",
              "      <td>0.0</td>\n",
              "      <td>0.0</td>\n",
              "      <td>0.0</td>\n",
              "      <td>0.0</td>\n",
              "      <td>0.0</td>\n",
              "      <td>0.0</td>\n",
              "      <td>0.0</td>\n",
              "      <td>0.0</td>\n",
              "      <td>0.0</td>\n",
              "      <td>0.0</td>\n",
              "      <td>0.0</td>\n",
              "      <td>0.0</td>\n",
              "      <td>0.0</td>\n",
              "      <td>0.0</td>\n",
              "      <td>0.0</td>\n",
              "      <td>0.0</td>\n",
              "      <td>0.0</td>\n",
              "      <td>0.0</td>\n",
              "      <td>0.0</td>\n",
              "      <td>0.0</td>\n",
              "      <td>0.0</td>\n",
              "      <td>0.0</td>\n",
              "      <td>0.0</td>\n",
              "      <td>0.0</td>\n",
              "      <td>0.0</td>\n",
              "      <td>0.0</td>\n",
              "    </tr>\n",
              "    <tr>\n",
              "      <th>...</th>\n",
              "      <td>...</td>\n",
              "      <td>...</td>\n",
              "      <td>...</td>\n",
              "      <td>...</td>\n",
              "      <td>...</td>\n",
              "      <td>...</td>\n",
              "      <td>...</td>\n",
              "      <td>...</td>\n",
              "      <td>...</td>\n",
              "      <td>...</td>\n",
              "      <td>...</td>\n",
              "      <td>...</td>\n",
              "      <td>...</td>\n",
              "      <td>...</td>\n",
              "      <td>...</td>\n",
              "      <td>...</td>\n",
              "      <td>...</td>\n",
              "      <td>...</td>\n",
              "      <td>...</td>\n",
              "      <td>...</td>\n",
              "      <td>...</td>\n",
              "      <td>...</td>\n",
              "      <td>...</td>\n",
              "      <td>...</td>\n",
              "      <td>...</td>\n",
              "      <td>...</td>\n",
              "      <td>...</td>\n",
              "      <td>...</td>\n",
              "      <td>...</td>\n",
              "      <td>...</td>\n",
              "      <td>...</td>\n",
              "      <td>...</td>\n",
              "      <td>...</td>\n",
              "      <td>...</td>\n",
              "      <td>...</td>\n",
              "      <td>...</td>\n",
              "      <td>...</td>\n",
              "      <td>...</td>\n",
              "      <td>...</td>\n",
              "      <td>...</td>\n",
              "      <td>...</td>\n",
              "      <td>...</td>\n",
              "      <td>...</td>\n",
              "      <td>...</td>\n",
              "      <td>...</td>\n",
              "      <td>...</td>\n",
              "      <td>...</td>\n",
              "      <td>...</td>\n",
              "      <td>...</td>\n",
              "      <td>...</td>\n",
              "      <td>...</td>\n",
              "      <td>...</td>\n",
              "      <td>...</td>\n",
              "      <td>...</td>\n",
              "      <td>...</td>\n",
              "      <td>...</td>\n",
              "      <td>...</td>\n",
              "      <td>...</td>\n",
              "      <td>...</td>\n",
              "      <td>...</td>\n",
              "      <td>...</td>\n",
              "      <td>...</td>\n",
              "      <td>...</td>\n",
              "      <td>...</td>\n",
              "      <td>...</td>\n",
              "      <td>...</td>\n",
              "      <td>...</td>\n",
              "      <td>...</td>\n",
              "      <td>...</td>\n",
              "      <td>...</td>\n",
              "      <td>...</td>\n",
              "      <td>...</td>\n",
              "      <td>...</td>\n",
              "      <td>...</td>\n",
              "      <td>...</td>\n",
              "      <td>...</td>\n",
              "      <td>...</td>\n",
              "      <td>...</td>\n",
              "      <td>...</td>\n",
              "      <td>...</td>\n",
              "      <td>...</td>\n",
              "    </tr>\n",
              "    <tr>\n",
              "      <th>6887</th>\n",
              "      <td>0.0</td>\n",
              "      <td>0.0</td>\n",
              "      <td>0.0</td>\n",
              "      <td>0.0</td>\n",
              "      <td>0.0</td>\n",
              "      <td>0.0</td>\n",
              "      <td>0.0</td>\n",
              "      <td>0.0</td>\n",
              "      <td>0.0</td>\n",
              "      <td>0.0</td>\n",
              "      <td>0.0</td>\n",
              "      <td>0.0</td>\n",
              "      <td>0.0</td>\n",
              "      <td>0.0</td>\n",
              "      <td>0.0</td>\n",
              "      <td>0.0</td>\n",
              "      <td>0.0</td>\n",
              "      <td>0.0</td>\n",
              "      <td>0.0</td>\n",
              "      <td>0.0</td>\n",
              "      <td>0.0</td>\n",
              "      <td>0.0</td>\n",
              "      <td>0.0</td>\n",
              "      <td>0.0</td>\n",
              "      <td>0.0</td>\n",
              "      <td>0.0</td>\n",
              "      <td>0.0</td>\n",
              "      <td>0.0</td>\n",
              "      <td>0.0</td>\n",
              "      <td>0.0</td>\n",
              "      <td>0.0</td>\n",
              "      <td>0.0</td>\n",
              "      <td>0.0</td>\n",
              "      <td>0.0</td>\n",
              "      <td>0.0</td>\n",
              "      <td>0.0</td>\n",
              "      <td>0.0</td>\n",
              "      <td>0.0</td>\n",
              "      <td>0.0</td>\n",
              "      <td>0.0</td>\n",
              "      <td>...</td>\n",
              "      <td>0.0</td>\n",
              "      <td>0.0</td>\n",
              "      <td>0.0</td>\n",
              "      <td>0.0</td>\n",
              "      <td>0.0</td>\n",
              "      <td>0.0</td>\n",
              "      <td>0.0</td>\n",
              "      <td>0.0</td>\n",
              "      <td>0.0</td>\n",
              "      <td>0.0</td>\n",
              "      <td>0.0</td>\n",
              "      <td>0.0</td>\n",
              "      <td>0.0</td>\n",
              "      <td>0.0</td>\n",
              "      <td>0.0</td>\n",
              "      <td>0.0</td>\n",
              "      <td>0.0</td>\n",
              "      <td>0.0</td>\n",
              "      <td>0.0</td>\n",
              "      <td>0.0</td>\n",
              "      <td>0.0</td>\n",
              "      <td>0.0</td>\n",
              "      <td>0.0</td>\n",
              "      <td>0.0</td>\n",
              "      <td>0.0</td>\n",
              "      <td>0.0</td>\n",
              "      <td>0.0</td>\n",
              "      <td>0.0</td>\n",
              "      <td>0.0</td>\n",
              "      <td>0.0</td>\n",
              "      <td>0.0</td>\n",
              "      <td>0.0</td>\n",
              "      <td>0.0</td>\n",
              "      <td>0.0</td>\n",
              "      <td>0.0</td>\n",
              "      <td>0.0</td>\n",
              "      <td>0.0</td>\n",
              "      <td>0.0</td>\n",
              "      <td>0.0</td>\n",
              "      <td>0.0</td>\n",
              "    </tr>\n",
              "    <tr>\n",
              "      <th>6888</th>\n",
              "      <td>0.0</td>\n",
              "      <td>0.0</td>\n",
              "      <td>0.0</td>\n",
              "      <td>0.0</td>\n",
              "      <td>0.0</td>\n",
              "      <td>0.0</td>\n",
              "      <td>0.0</td>\n",
              "      <td>0.0</td>\n",
              "      <td>0.0</td>\n",
              "      <td>0.0</td>\n",
              "      <td>0.0</td>\n",
              "      <td>0.0</td>\n",
              "      <td>0.0</td>\n",
              "      <td>0.0</td>\n",
              "      <td>0.0</td>\n",
              "      <td>0.0</td>\n",
              "      <td>0.0</td>\n",
              "      <td>0.0</td>\n",
              "      <td>0.0</td>\n",
              "      <td>0.0</td>\n",
              "      <td>0.0</td>\n",
              "      <td>0.0</td>\n",
              "      <td>0.0</td>\n",
              "      <td>0.0</td>\n",
              "      <td>0.0</td>\n",
              "      <td>0.0</td>\n",
              "      <td>0.0</td>\n",
              "      <td>0.0</td>\n",
              "      <td>0.0</td>\n",
              "      <td>0.0</td>\n",
              "      <td>0.0</td>\n",
              "      <td>0.0</td>\n",
              "      <td>0.0</td>\n",
              "      <td>0.0</td>\n",
              "      <td>0.0</td>\n",
              "      <td>0.0</td>\n",
              "      <td>0.0</td>\n",
              "      <td>0.0</td>\n",
              "      <td>0.0</td>\n",
              "      <td>0.0</td>\n",
              "      <td>...</td>\n",
              "      <td>0.0</td>\n",
              "      <td>0.0</td>\n",
              "      <td>0.0</td>\n",
              "      <td>0.0</td>\n",
              "      <td>0.0</td>\n",
              "      <td>0.0</td>\n",
              "      <td>0.0</td>\n",
              "      <td>0.0</td>\n",
              "      <td>0.0</td>\n",
              "      <td>0.0</td>\n",
              "      <td>0.0</td>\n",
              "      <td>0.0</td>\n",
              "      <td>0.0</td>\n",
              "      <td>0.0</td>\n",
              "      <td>0.0</td>\n",
              "      <td>0.0</td>\n",
              "      <td>0.0</td>\n",
              "      <td>0.0</td>\n",
              "      <td>0.0</td>\n",
              "      <td>0.0</td>\n",
              "      <td>0.0</td>\n",
              "      <td>0.0</td>\n",
              "      <td>0.0</td>\n",
              "      <td>0.0</td>\n",
              "      <td>0.0</td>\n",
              "      <td>0.0</td>\n",
              "      <td>0.0</td>\n",
              "      <td>0.0</td>\n",
              "      <td>0.0</td>\n",
              "      <td>0.0</td>\n",
              "      <td>0.0</td>\n",
              "      <td>0.0</td>\n",
              "      <td>0.0</td>\n",
              "      <td>0.0</td>\n",
              "      <td>0.0</td>\n",
              "      <td>0.0</td>\n",
              "      <td>0.0</td>\n",
              "      <td>0.0</td>\n",
              "      <td>0.0</td>\n",
              "      <td>0.0</td>\n",
              "    </tr>\n",
              "    <tr>\n",
              "      <th>6889</th>\n",
              "      <td>0.0</td>\n",
              "      <td>0.0</td>\n",
              "      <td>0.0</td>\n",
              "      <td>0.0</td>\n",
              "      <td>0.0</td>\n",
              "      <td>0.0</td>\n",
              "      <td>0.0</td>\n",
              "      <td>0.0</td>\n",
              "      <td>0.0</td>\n",
              "      <td>0.0</td>\n",
              "      <td>0.0</td>\n",
              "      <td>0.0</td>\n",
              "      <td>0.0</td>\n",
              "      <td>0.0</td>\n",
              "      <td>0.0</td>\n",
              "      <td>0.0</td>\n",
              "      <td>0.0</td>\n",
              "      <td>0.0</td>\n",
              "      <td>0.0</td>\n",
              "      <td>0.0</td>\n",
              "      <td>0.0</td>\n",
              "      <td>0.0</td>\n",
              "      <td>0.0</td>\n",
              "      <td>0.0</td>\n",
              "      <td>0.0</td>\n",
              "      <td>0.0</td>\n",
              "      <td>0.0</td>\n",
              "      <td>0.0</td>\n",
              "      <td>0.0</td>\n",
              "      <td>0.0</td>\n",
              "      <td>0.0</td>\n",
              "      <td>0.0</td>\n",
              "      <td>0.0</td>\n",
              "      <td>0.0</td>\n",
              "      <td>0.0</td>\n",
              "      <td>0.0</td>\n",
              "      <td>0.0</td>\n",
              "      <td>0.0</td>\n",
              "      <td>0.0</td>\n",
              "      <td>0.0</td>\n",
              "      <td>...</td>\n",
              "      <td>0.0</td>\n",
              "      <td>0.0</td>\n",
              "      <td>0.0</td>\n",
              "      <td>0.0</td>\n",
              "      <td>0.0</td>\n",
              "      <td>0.0</td>\n",
              "      <td>0.0</td>\n",
              "      <td>0.0</td>\n",
              "      <td>0.0</td>\n",
              "      <td>0.0</td>\n",
              "      <td>0.0</td>\n",
              "      <td>0.0</td>\n",
              "      <td>0.0</td>\n",
              "      <td>0.0</td>\n",
              "      <td>0.0</td>\n",
              "      <td>0.0</td>\n",
              "      <td>0.0</td>\n",
              "      <td>0.0</td>\n",
              "      <td>0.0</td>\n",
              "      <td>0.0</td>\n",
              "      <td>0.0</td>\n",
              "      <td>0.0</td>\n",
              "      <td>0.0</td>\n",
              "      <td>0.0</td>\n",
              "      <td>0.0</td>\n",
              "      <td>0.0</td>\n",
              "      <td>0.0</td>\n",
              "      <td>0.0</td>\n",
              "      <td>0.0</td>\n",
              "      <td>0.0</td>\n",
              "      <td>0.0</td>\n",
              "      <td>0.0</td>\n",
              "      <td>0.0</td>\n",
              "      <td>0.0</td>\n",
              "      <td>0.0</td>\n",
              "      <td>0.0</td>\n",
              "      <td>0.0</td>\n",
              "      <td>0.0</td>\n",
              "      <td>0.0</td>\n",
              "      <td>0.0</td>\n",
              "    </tr>\n",
              "    <tr>\n",
              "      <th>6890</th>\n",
              "      <td>0.0</td>\n",
              "      <td>0.0</td>\n",
              "      <td>0.0</td>\n",
              "      <td>0.0</td>\n",
              "      <td>0.0</td>\n",
              "      <td>0.0</td>\n",
              "      <td>0.0</td>\n",
              "      <td>0.0</td>\n",
              "      <td>0.0</td>\n",
              "      <td>0.0</td>\n",
              "      <td>0.0</td>\n",
              "      <td>0.0</td>\n",
              "      <td>0.0</td>\n",
              "      <td>0.0</td>\n",
              "      <td>0.0</td>\n",
              "      <td>0.0</td>\n",
              "      <td>0.0</td>\n",
              "      <td>0.0</td>\n",
              "      <td>0.0</td>\n",
              "      <td>0.0</td>\n",
              "      <td>0.0</td>\n",
              "      <td>0.0</td>\n",
              "      <td>0.0</td>\n",
              "      <td>0.0</td>\n",
              "      <td>0.0</td>\n",
              "      <td>0.0</td>\n",
              "      <td>0.0</td>\n",
              "      <td>0.0</td>\n",
              "      <td>0.0</td>\n",
              "      <td>0.0</td>\n",
              "      <td>0.0</td>\n",
              "      <td>0.0</td>\n",
              "      <td>0.0</td>\n",
              "      <td>0.0</td>\n",
              "      <td>0.0</td>\n",
              "      <td>0.0</td>\n",
              "      <td>0.0</td>\n",
              "      <td>0.0</td>\n",
              "      <td>0.0</td>\n",
              "      <td>0.0</td>\n",
              "      <td>...</td>\n",
              "      <td>0.0</td>\n",
              "      <td>0.0</td>\n",
              "      <td>0.0</td>\n",
              "      <td>0.0</td>\n",
              "      <td>0.0</td>\n",
              "      <td>0.0</td>\n",
              "      <td>0.0</td>\n",
              "      <td>0.0</td>\n",
              "      <td>0.0</td>\n",
              "      <td>0.0</td>\n",
              "      <td>0.0</td>\n",
              "      <td>0.0</td>\n",
              "      <td>0.0</td>\n",
              "      <td>0.0</td>\n",
              "      <td>0.0</td>\n",
              "      <td>0.0</td>\n",
              "      <td>0.0</td>\n",
              "      <td>0.0</td>\n",
              "      <td>0.0</td>\n",
              "      <td>0.0</td>\n",
              "      <td>0.0</td>\n",
              "      <td>0.0</td>\n",
              "      <td>0.0</td>\n",
              "      <td>0.0</td>\n",
              "      <td>0.0</td>\n",
              "      <td>0.0</td>\n",
              "      <td>0.0</td>\n",
              "      <td>0.0</td>\n",
              "      <td>0.0</td>\n",
              "      <td>0.0</td>\n",
              "      <td>0.0</td>\n",
              "      <td>0.0</td>\n",
              "      <td>0.0</td>\n",
              "      <td>0.0</td>\n",
              "      <td>0.0</td>\n",
              "      <td>0.0</td>\n",
              "      <td>0.0</td>\n",
              "      <td>0.0</td>\n",
              "      <td>0.0</td>\n",
              "      <td>0.0</td>\n",
              "    </tr>\n",
              "    <tr>\n",
              "      <th>6891</th>\n",
              "      <td>0.0</td>\n",
              "      <td>0.0</td>\n",
              "      <td>0.0</td>\n",
              "      <td>0.0</td>\n",
              "      <td>0.0</td>\n",
              "      <td>0.0</td>\n",
              "      <td>0.0</td>\n",
              "      <td>0.0</td>\n",
              "      <td>0.0</td>\n",
              "      <td>0.0</td>\n",
              "      <td>0.0</td>\n",
              "      <td>0.0</td>\n",
              "      <td>0.0</td>\n",
              "      <td>0.0</td>\n",
              "      <td>0.0</td>\n",
              "      <td>0.0</td>\n",
              "      <td>0.0</td>\n",
              "      <td>0.0</td>\n",
              "      <td>0.0</td>\n",
              "      <td>0.0</td>\n",
              "      <td>0.0</td>\n",
              "      <td>0.0</td>\n",
              "      <td>0.0</td>\n",
              "      <td>0.0</td>\n",
              "      <td>0.0</td>\n",
              "      <td>0.0</td>\n",
              "      <td>0.0</td>\n",
              "      <td>0.0</td>\n",
              "      <td>0.0</td>\n",
              "      <td>0.0</td>\n",
              "      <td>0.0</td>\n",
              "      <td>0.0</td>\n",
              "      <td>0.0</td>\n",
              "      <td>0.0</td>\n",
              "      <td>0.0</td>\n",
              "      <td>0.0</td>\n",
              "      <td>0.0</td>\n",
              "      <td>0.0</td>\n",
              "      <td>0.0</td>\n",
              "      <td>0.0</td>\n",
              "      <td>...</td>\n",
              "      <td>0.0</td>\n",
              "      <td>0.0</td>\n",
              "      <td>0.0</td>\n",
              "      <td>0.0</td>\n",
              "      <td>0.0</td>\n",
              "      <td>0.0</td>\n",
              "      <td>0.0</td>\n",
              "      <td>0.0</td>\n",
              "      <td>0.0</td>\n",
              "      <td>0.0</td>\n",
              "      <td>0.0</td>\n",
              "      <td>0.0</td>\n",
              "      <td>0.0</td>\n",
              "      <td>0.0</td>\n",
              "      <td>0.0</td>\n",
              "      <td>0.0</td>\n",
              "      <td>0.0</td>\n",
              "      <td>0.0</td>\n",
              "      <td>0.0</td>\n",
              "      <td>0.0</td>\n",
              "      <td>0.0</td>\n",
              "      <td>0.0</td>\n",
              "      <td>0.0</td>\n",
              "      <td>0.0</td>\n",
              "      <td>0.0</td>\n",
              "      <td>0.0</td>\n",
              "      <td>0.0</td>\n",
              "      <td>0.0</td>\n",
              "      <td>0.0</td>\n",
              "      <td>0.0</td>\n",
              "      <td>0.0</td>\n",
              "      <td>0.0</td>\n",
              "      <td>0.0</td>\n",
              "      <td>0.0</td>\n",
              "      <td>0.0</td>\n",
              "      <td>0.0</td>\n",
              "      <td>0.0</td>\n",
              "      <td>0.0</td>\n",
              "      <td>0.0</td>\n",
              "      <td>0.0</td>\n",
              "    </tr>\n",
              "  </tbody>\n",
              "</table>\n",
              "<p>6892 rows × 4738 columns</p>\n",
              "</div>\n",
              "      <button class=\"colab-df-convert\" onclick=\"convertToInteractive('df-a30d0004-c33c-4ab3-96bb-ea82c2588f0d')\"\n",
              "              title=\"Convert this dataframe to an interactive table.\"\n",
              "              style=\"display:none;\">\n",
              "        \n",
              "  <svg xmlns=\"http://www.w3.org/2000/svg\" height=\"24px\"viewBox=\"0 0 24 24\"\n",
              "       width=\"24px\">\n",
              "    <path d=\"M0 0h24v24H0V0z\" fill=\"none\"/>\n",
              "    <path d=\"M18.56 5.44l.94 2.06.94-2.06 2.06-.94-2.06-.94-.94-2.06-.94 2.06-2.06.94zm-11 1L8.5 8.5l.94-2.06 2.06-.94-2.06-.94L8.5 2.5l-.94 2.06-2.06.94zm10 10l.94 2.06.94-2.06 2.06-.94-2.06-.94-.94-2.06-.94 2.06-2.06.94z\"/><path d=\"M17.41 7.96l-1.37-1.37c-.4-.4-.92-.59-1.43-.59-.52 0-1.04.2-1.43.59L10.3 9.45l-7.72 7.72c-.78.78-.78 2.05 0 2.83L4 21.41c.39.39.9.59 1.41.59.51 0 1.02-.2 1.41-.59l7.78-7.78 2.81-2.81c.8-.78.8-2.07 0-2.86zM5.41 20L4 18.59l7.72-7.72 1.47 1.35L5.41 20z\"/>\n",
              "  </svg>\n",
              "      </button>\n",
              "      \n",
              "  <style>\n",
              "    .colab-df-container {\n",
              "      display:flex;\n",
              "      flex-wrap:wrap;\n",
              "      gap: 12px;\n",
              "    }\n",
              "\n",
              "    .colab-df-convert {\n",
              "      background-color: #E8F0FE;\n",
              "      border: none;\n",
              "      border-radius: 50%;\n",
              "      cursor: pointer;\n",
              "      display: none;\n",
              "      fill: #1967D2;\n",
              "      height: 32px;\n",
              "      padding: 0 0 0 0;\n",
              "      width: 32px;\n",
              "    }\n",
              "\n",
              "    .colab-df-convert:hover {\n",
              "      background-color: #E2EBFA;\n",
              "      box-shadow: 0px 1px 2px rgba(60, 64, 67, 0.3), 0px 1px 3px 1px rgba(60, 64, 67, 0.15);\n",
              "      fill: #174EA6;\n",
              "    }\n",
              "\n",
              "    [theme=dark] .colab-df-convert {\n",
              "      background-color: #3B4455;\n",
              "      fill: #D2E3FC;\n",
              "    }\n",
              "\n",
              "    [theme=dark] .colab-df-convert:hover {\n",
              "      background-color: #434B5C;\n",
              "      box-shadow: 0px 1px 3px 1px rgba(0, 0, 0, 0.15);\n",
              "      filter: drop-shadow(0px 1px 2px rgba(0, 0, 0, 0.3));\n",
              "      fill: #FFFFFF;\n",
              "    }\n",
              "  </style>\n",
              "\n",
              "      <script>\n",
              "        const buttonEl =\n",
              "          document.querySelector('#df-a30d0004-c33c-4ab3-96bb-ea82c2588f0d button.colab-df-convert');\n",
              "        buttonEl.style.display =\n",
              "          google.colab.kernel.accessAllowed ? 'block' : 'none';\n",
              "\n",
              "        async function convertToInteractive(key) {\n",
              "          const element = document.querySelector('#df-a30d0004-c33c-4ab3-96bb-ea82c2588f0d');\n",
              "          const dataTable =\n",
              "            await google.colab.kernel.invokeFunction('convertToInteractive',\n",
              "                                                     [key], {});\n",
              "          if (!dataTable) return;\n",
              "\n",
              "          const docLinkHtml = 'Like what you see? Visit the ' +\n",
              "            '<a target=\"_blank\" href=https://colab.research.google.com/notebooks/data_table.ipynb>data table notebook</a>'\n",
              "            + ' to learn more about interactive tables.';\n",
              "          element.innerHTML = '';\n",
              "          dataTable['output_type'] = 'display_data';\n",
              "          await google.colab.output.renderOutput(dataTable, element);\n",
              "          const docLink = document.createElement('div');\n",
              "          docLink.innerHTML = docLinkHtml;\n",
              "          element.appendChild(docLink);\n",
              "        }\n",
              "      </script>\n",
              "    </div>\n",
              "  </div>\n",
              "  "
            ],
            "text/plain": [
              "      aakaash  aap  aaps  abandoned  abdolutely  ...  zip  zone  zoom  zte  zzzz\n",
              "0         0.0  0.0   0.0        0.0         0.0  ...  0.0   0.0   0.0  0.0   0.0\n",
              "1         0.0  0.0   0.0        0.0         0.0  ...  0.0   0.0   0.0  0.0   0.0\n",
              "2         0.0  0.0   0.0        0.0         0.0  ...  0.0   0.0   0.0  0.0   0.0\n",
              "3         0.0  0.0   0.0        0.0         0.0  ...  0.0   0.0   0.0  0.0   0.0\n",
              "4         0.0  0.0   0.0        0.0         0.0  ...  0.0   0.0   0.0  0.0   0.0\n",
              "...       ...  ...   ...        ...         ...  ...  ...   ...   ...  ...   ...\n",
              "6887      0.0  0.0   0.0        0.0         0.0  ...  0.0   0.0   0.0  0.0   0.0\n",
              "6888      0.0  0.0   0.0        0.0         0.0  ...  0.0   0.0   0.0  0.0   0.0\n",
              "6889      0.0  0.0   0.0        0.0         0.0  ...  0.0   0.0   0.0  0.0   0.0\n",
              "6890      0.0  0.0   0.0        0.0         0.0  ...  0.0   0.0   0.0  0.0   0.0\n",
              "6891      0.0  0.0   0.0        0.0         0.0  ...  0.0   0.0   0.0  0.0   0.0\n",
              "\n",
              "[6892 rows x 4738 columns]"
            ]
          },
          "metadata": {},
          "execution_count": 13
        }
      ]
    },
    {
      "cell_type": "code",
      "source": [
        "print(\"Training dataset dimensions: \", np.shape(x_train))\n",
        "print(\"Number of training labels: \", len(y_train))\n",
        "print(\"Testing dataset dimensions: \", np.shape(x_val))\n",
        "print(\"Number of testing labels: \", len(y_val))\n",
        "print(\"Testing dataset dimensions: \", np.shape(x_test))\n",
        "print(\"Number of testing labels: \", len(y_test))"
      ],
      "metadata": {
        "colab": {
          "base_uri": "https://localhost:8080/"
        },
        "id": "Q1D3prZjmd-A",
        "outputId": "818f1672-8ecd-434b-f3ce-d73ad3d095ba"
      },
      "execution_count": 14,
      "outputs": [
        {
          "output_type": "stream",
          "name": "stdout",
          "text": [
            "Training dataset dimensions:  (6892, 4738)\n",
            "Number of training labels:  6892\n",
            "Testing dataset dimensions:  (560, 4738)\n",
            "Number of testing labels:  560\n",
            "Testing dataset dimensions:  (560, 4738)\n",
            "Number of testing labels:  560\n"
          ]
        }
      ]
    },
    {
      "cell_type": "markdown",
      "source": [
        "**the distribution of examples of each class**"
      ],
      "metadata": {
        "id": "AsbfocdlN4m3"
      }
    },
    {
      "cell_type": "code",
      "source": [
        "label_name, label_counts = np.unique(y_train, return_counts=True)\n",
        "print(\"Train data set distribution:\")\n",
        "print(dict(zip(label_name, label_counts)))\n",
        "\n",
        "label_name, label_counts = np.unique(y_val, return_counts=True)\n",
        "print(\"Val data set distribution:\")\n",
        "print(dict(zip(label_name, label_counts)))\n",
        "\n",
        "test_digits, test_counts = np.unique(y_test, return_counts=True)\n",
        "print(\"Test set distribution:\")\n",
        "print(dict(zip(test_digits, test_counts)))"
      ],
      "metadata": {
        "colab": {
          "base_uri": "https://localhost:8080/"
        },
        "id": "LwwlNDrpm7Nx",
        "outputId": "a991ecc0-754f-40d7-e6ff-c8f487ad56e4"
      },
      "execution_count": 15,
      "outputs": [
        {
          "output_type": "stream",
          "name": "stdout",
          "text": [
            "Train data set distribution:\n",
            "{'Bug': 1723, 'Feature': 1723, 'Rating': 1723, 'UserExperience': 1723}\n",
            "Val data set distribution:\n",
            "{'Bug': 56, 'Feature': 44, 'Rating': 369, 'UserExperience': 91}\n",
            "Test set distribution:\n",
            "{'Bug': 56, 'Feature': 44, 'Rating': 369, 'UserExperience': 91}\n"
          ]
        }
      ]
    },
    {
      "cell_type": "markdown",
      "source": [
        "**Coverting the labels to digits**"
      ],
      "metadata": {
        "id": "AguIJjaJOnei"
      }
    },
    {
      "cell_type": "code",
      "source": [
        "encoder = LabelEncoder()\n",
        "y_train = encoder.fit_transform(y_train)\n",
        "y_val = encoder.transform(y_val)\n",
        "y_test = encoder.transform(y_test)"
      ],
      "metadata": {
        "id": "sGZniazynCQa"
      },
      "execution_count": 16,
      "outputs": []
    },
    {
      "cell_type": "markdown",
      "source": [
        "**Classifier1: LogisticRegression**"
      ],
      "metadata": {
        "id": "C-papexQQ493"
      }
    },
    {
      "cell_type": "code",
      "source": [
        "import sklearn\n",
        "from sklearn.linear_model import LogisticRegression\n",
        "\n",
        "from sklearn import metrics\n",
        "\n",
        "solvers = ['newton-cg', 'liblinear']\n",
        "c_values = [1.0,0.7,0.65]\n",
        "max_iter = [100,500,750,1000]\n",
        "\n",
        "best_solvers=None\n",
        "best_c_values=None\n",
        "best_max_iter = None\n",
        "best_acc=0\n",
        "val_acc=0\n",
        "\n",
        "for i in range(len(solvers)):\n",
        "  for m in range(len(c_values)):\n",
        "    for f in range(len(max_iter)):\n",
        "      clf = LogisticRegression(random_state=20211008,solver = solvers[i] ,C=c_values[m],max_iter=max_iter[f])\n",
        "      clf.fit(x_train,y_train)\n",
        "      train_y_pred= clf.predict(x_train)\n",
        "      val_y_pred= clf.predict(x_val)\n",
        "      train_acc = sklearn.metrics.accuracy_score(y_true=y_train, y_pred=train_y_pred)\n",
        "      val_acc = sklearn.metrics.accuracy_score(y_true=y_val, y_pred=val_y_pred)\n",
        "      print(\"Setting tree solvers={}, c_values={},max_iter= {}, train_acc={:.2f}, val_acc={:.2f}\".format(solvers[i],c_values[m],max_iter[f],train_acc, val_acc))\n",
        "      if val_acc > best_acc:\n",
        "        best_acc = val_acc\n",
        "        best_solvers=solvers[i]\n",
        "        best_c_values=c_values[m]\n",
        "        best_max_iter = max_iter[f]\n",
        "\n",
        "print(\"best Setting tree solvers={}, c_values={},max_iter= {}, val_acc={:.2f}\".format(best_solvers,best_c_values,best_max_iter, best_acc))"
      ],
      "metadata": {
        "id": "n2UGRAfotUZd",
        "colab": {
          "base_uri": "https://localhost:8080/"
        },
        "outputId": "9bb6f121-16fa-4fcc-d2b7-576eb027e4d4"
      },
      "execution_count": 17,
      "outputs": [
        {
          "output_type": "stream",
          "name": "stdout",
          "text": [
            "Setting tree solvers=newton-cg, c_values=1.0,max_iter= 100, train_acc=0.93, val_acc=0.64\n",
            "Setting tree solvers=newton-cg, c_values=1.0,max_iter= 500, train_acc=0.93, val_acc=0.64\n",
            "Setting tree solvers=newton-cg, c_values=1.0,max_iter= 750, train_acc=0.93, val_acc=0.64\n",
            "Setting tree solvers=newton-cg, c_values=1.0,max_iter= 1000, train_acc=0.93, val_acc=0.64\n",
            "Setting tree solvers=newton-cg, c_values=0.7,max_iter= 100, train_acc=0.93, val_acc=0.64\n",
            "Setting tree solvers=newton-cg, c_values=0.7,max_iter= 500, train_acc=0.93, val_acc=0.64\n",
            "Setting tree solvers=newton-cg, c_values=0.7,max_iter= 750, train_acc=0.93, val_acc=0.64\n",
            "Setting tree solvers=newton-cg, c_values=0.7,max_iter= 1000, train_acc=0.93, val_acc=0.64\n",
            "Setting tree solvers=newton-cg, c_values=0.65,max_iter= 100, train_acc=0.92, val_acc=0.64\n",
            "Setting tree solvers=newton-cg, c_values=0.65,max_iter= 500, train_acc=0.92, val_acc=0.64\n",
            "Setting tree solvers=newton-cg, c_values=0.65,max_iter= 750, train_acc=0.92, val_acc=0.64\n",
            "Setting tree solvers=newton-cg, c_values=0.65,max_iter= 1000, train_acc=0.92, val_acc=0.64\n",
            "Setting tree solvers=liblinear, c_values=1.0,max_iter= 100, train_acc=0.92, val_acc=0.64\n",
            "Setting tree solvers=liblinear, c_values=1.0,max_iter= 500, train_acc=0.92, val_acc=0.64\n",
            "Setting tree solvers=liblinear, c_values=1.0,max_iter= 750, train_acc=0.92, val_acc=0.64\n",
            "Setting tree solvers=liblinear, c_values=1.0,max_iter= 1000, train_acc=0.92, val_acc=0.64\n",
            "Setting tree solvers=liblinear, c_values=0.7,max_iter= 100, train_acc=0.91, val_acc=0.65\n",
            "Setting tree solvers=liblinear, c_values=0.7,max_iter= 500, train_acc=0.91, val_acc=0.65\n",
            "Setting tree solvers=liblinear, c_values=0.7,max_iter= 750, train_acc=0.91, val_acc=0.65\n",
            "Setting tree solvers=liblinear, c_values=0.7,max_iter= 1000, train_acc=0.91, val_acc=0.65\n",
            "Setting tree solvers=liblinear, c_values=0.65,max_iter= 100, train_acc=0.91, val_acc=0.65\n",
            "Setting tree solvers=liblinear, c_values=0.65,max_iter= 500, train_acc=0.91, val_acc=0.65\n",
            "Setting tree solvers=liblinear, c_values=0.65,max_iter= 750, train_acc=0.91, val_acc=0.65\n",
            "Setting tree solvers=liblinear, c_values=0.65,max_iter= 1000, train_acc=0.91, val_acc=0.65\n",
            "best Setting tree solvers=liblinear, c_values=0.65,max_iter= 100, val_acc=0.65\n"
          ]
        }
      ]
    },
    {
      "cell_type": "code",
      "source": [
        "from sklearn.metrics import plot_confusion_matrix\n",
        "\n",
        "clf = LogisticRegression(random_state=20211008)\n",
        "\n",
        "clf.fit(x_train,y_train)\n",
        "\n",
        "test_y_pred= clf.predict(x_test)\n",
        "\n",
        "# Model Accuracy\n",
        "print(\"Test Accuracy:\",metrics.accuracy_score(y_test, test_y_pred))\n",
        "# Model Precision\n",
        "print(\"Precision:\",metrics.precision_score(y_test, test_y_pred , average=\"weighted\"))\n",
        "# Model Recall\n",
        "print(\"Recall:\",metrics.recall_score(y_test, test_y_pred, average=\"weighted\"))\n",
        "# Model F1\n",
        "print(\"F1:\",metrics.f1_score(y_test, test_y_pred, average=\"weighted\"))\n",
        "plot_confusion_matrix(clf, x_test, y_test)  \n",
        "plt.show()"
      ],
      "metadata": {
        "colab": {
          "base_uri": "https://localhost:8080/",
          "height": 401
        },
        "id": "tXSLMoJ-M8ms",
        "outputId": "acfe3756-196a-427e-8143-081a26de7447"
      },
      "execution_count": 18,
      "outputs": [
        {
          "output_type": "stream",
          "name": "stdout",
          "text": [
            "Test Accuracy: 0.6625\n",
            "Precision: 0.6859572668364511\n",
            "Recall: 0.6625\n",
            "F1: 0.6722485147905315\n"
          ]
        },
        {
          "output_type": "stream",
          "name": "stderr",
          "text": [
            "/usr/local/lib/python3.7/dist-packages/sklearn/utils/deprecation.py:87: FutureWarning: Function plot_confusion_matrix is deprecated; Function `plot_confusion_matrix` is deprecated in 1.0 and will be removed in 1.2. Use one of the class methods: ConfusionMatrixDisplay.from_predictions or ConfusionMatrixDisplay.from_estimator.\n",
            "  warnings.warn(msg, category=FutureWarning)\n"
          ]
        },
        {
          "output_type": "display_data",
          "data": {
            "image/png": "[encoded data removed]",
            "text/plain": [
              "<Figure size 432x288 with 2 Axes>"
            ]
          },
          "metadata": {
            "needs_background": "light"
          }
        }
      ]
    },
    {
      "cell_type": "markdown",
      "source": [
        "**Classifier2: SVC**"
      ],
      "metadata": {
        "id": "Po2jfmqyRIq4"
      }
    },
    {
      "cell_type": "code",
      "source": [
        "from sklearn.svm import SVC\n",
        "kernal=['linear','rbf','sigmoid','poly']\n",
        "degree=[1,2,3,4]\n",
        "best_acc=0\n",
        "val_acc=0\n",
        "best_kernal=None\n",
        "best_degree=1\n",
        "for i in range(len(kernal)):\n",
        "  if kernal[i]=='poly':\n",
        "    for d in range(len(degree)):\n",
        "      clf = SVC(kernel='poly',degree=degree[d],C = 1)\n",
        "      clf.fit(x_train,y_train)\n",
        "      train_y_pred =clf.predict(x_train)\n",
        "      train_acc = sklearn.metrics.accuracy_score(y_true=y_train, y_pred=train_y_pred)\n",
        "      val_y_pred =clf.predict(x_val)\n",
        "      val_acc = sklearn.metrics.accuracy_score(y_true=y_val, y_pred=val_y_pred)\n",
        "      print(\"Setting kernal={},with degree={}, train_acc={:.2f}, val_acc={:.2f}\".format(kernal[i],degree[d], train_acc, val_acc))\n",
        "      if val_acc > best_acc:\n",
        "        best_acc = val_acc\n",
        "        best_kernal = kernal[i]\n",
        "        best_degree=degree[d]\n",
        "\n",
        "  else:\n",
        "    clf = SVC(kernel=kernal[i],C = 1)\n",
        "    clf.fit(x_train,y_train)\n",
        "    train_y_pred =clf.predict(x_train)\n",
        "    train_acc = sklearn.metrics.accuracy_score(y_true=y_train, y_pred=train_y_pred)\n",
        "    val_y_pred =clf.predict(x_val)\n",
        "    val_acc = sklearn.metrics.accuracy_score(y_true=y_val, y_pred=val_y_pred)\n",
        "    print(\"Setting kernal={}, train_acc={:.2f}, val_acc={:.2f}\".format(kernal[i], train_acc, val_acc))\n",
        "  if val_acc > best_acc:\n",
        "      best_acc = val_acc\n",
        "      best_kernal = kernal[i]\n",
        "if best_kernal=='poly':\n",
        "  print(\"Best setting kernal={},with degree={}, val_acc={:.2f}\".format(best_kernal,best_degree, best_acc))\n",
        "\n",
        "else:\n",
        "  print(\"Best setting kernal={}, val_acc={:.2f}\".format(best_kernal, best_acc))"
      ],
      "metadata": {
        "id": "3eI5RryLPyjn",
        "colab": {
          "base_uri": "https://localhost:8080/"
        },
        "outputId": "8ef3a4c2-da9d-4037-f556-0ccb7e657ab8"
      },
      "execution_count": 19,
      "outputs": [
        {
          "output_type": "stream",
          "name": "stdout",
          "text": [
            "Setting kernal=linear, train_acc=0.94, val_acc=0.62\n",
            "Setting kernal=rbf, train_acc=0.96, val_acc=0.64\n",
            "Setting kernal=sigmoid, train_acc=0.90, val_acc=0.58\n",
            "Setting kernal=poly,with degree=1, train_acc=0.94, val_acc=0.62\n",
            "Setting kernal=poly,with degree=2, train_acc=0.96, val_acc=0.62\n",
            "Setting kernal=poly,with degree=3, train_acc=0.96, val_acc=0.59\n",
            "Setting kernal=poly,with degree=4, train_acc=0.96, val_acc=0.59\n",
            "Best setting kernal=rbf, val_acc=0.64\n"
          ]
        }
      ]
    },
    {
      "cell_type": "code",
      "source": [
        "if best_kernal=='poly':\n",
        "  print(\"Best setting kernal={},with degree={}, val_acc={:.2f}\".format(best_kernal,best_degree, best_acc))\n",
        "\n",
        "else:\n",
        "  print(\"Best setting kernal={}, val_acc={:.2f}\".format(best_kernal, best_acc))\n",
        "\n",
        "clf = SVC(kernel=best_kernal,C= best_degree)\n",
        "\n",
        "clf.fit(x_train,y_train)\n",
        "\n",
        "test_y_pred= clf.predict(x_test)\n",
        "\n",
        "# Model Accuracy\n",
        "print(\"Test Accuracy:\",metrics.accuracy_score(y_test, test_y_pred))\n",
        "# Model Precision\n",
        "print(\"Precision:\",metrics.precision_score(y_test, test_y_pred , average=\"weighted\"))\n",
        "# Model Recall\n",
        "print(\"Recall:\",metrics.recall_score(y_test, test_y_pred, average=\"weighted\"))\n",
        "# Model F1\n",
        "print(\"F1:\",metrics.f1_score(y_test, test_y_pred, average=\"weighted\"))\n",
        "\n",
        "plot_confusion_matrix(clf, x_test, y_test)  \n",
        "plt.show()\n"
      ],
      "metadata": {
        "colab": {
          "base_uri": "https://localhost:8080/",
          "height": 418
        },
        "id": "uQ3_l0OpQIje",
        "outputId": "adb8dec7-586a-4a6a-9cc7-bdc800de345e"
      },
      "execution_count": 28,
      "outputs": [
        {
          "output_type": "stream",
          "name": "stdout",
          "text": [
            "Best setting kernal=rbf, val_acc=0.59\n",
            "Test Accuracy: 0.6732142857142858\n",
            "Precision: 0.6441773978539599\n",
            "Recall: 0.6732142857142858\n",
            "F1: 0.6489913940420743\n"
          ]
        },
        {
          "output_type": "stream",
          "name": "stderr",
          "text": [
            "/usr/local/lib/python3.7/dist-packages/sklearn/utils/deprecation.py:87: FutureWarning: Function plot_confusion_matrix is deprecated; Function `plot_confusion_matrix` is deprecated in 1.0 and will be removed in 1.2. Use one of the class methods: ConfusionMatrixDisplay.from_predictions or ConfusionMatrixDisplay.from_estimator.\n",
            "  warnings.warn(msg, category=FutureWarning)\n"
          ]
        },
        {
          "output_type": "display_data",
          "data": {
            "image/png": "[encoded data removed]",
            "text/plain": [
              "<Figure size 432x288 with 2 Axes>"
            ]
          },
          "metadata": {
            "needs_background": "light"
          }
        }
      ]
    },
    {
      "cell_type": "markdown",
      "source": [
        "**Classifier3: Decision Tree**"
      ],
      "metadata": {
        "id": "LFG0rQB7RTac"
      }
    },
    {
      "cell_type": "code",
      "source": [
        "from sklearn.tree import DecisionTreeClassifier\n",
        "\n",
        "tree_criterion=['entropy','gini']\n",
        "max_depth=[300,400,500]\n",
        "min_samples_leaf=[1,2]\n",
        "best_tree_criterion=None\n",
        "best_acc=0\n",
        "best_max_depth=0\n",
        "best_min_sample_leaf=0\n",
        "val_acc=0\n",
        "for i in range(len(tree_criterion)):\n",
        "  for k in range(len(max_depth)):\n",
        "    for m in range(len(min_samples_leaf)):\n",
        "      clf = DecisionTreeClassifier(random_state=0,criterion=tree_criterion[i], max_depth=max_depth[k],min_samples_leaf=min_samples_leaf[m])\n",
        "      clf.fit(x_train,y_train)\n",
        "      train_y_pred= clf.predict(x_train)\n",
        "      val_y_pred= clf.predict(x_val)\n",
        "      train_acc = sklearn.metrics.accuracy_score(y_true=y_train, y_pred=train_y_pred)\n",
        "      val_acc = sklearn.metrics.accuracy_score(y_true=y_val, y_pred=val_y_pred)\n",
        "      print(\"Setting tree criterion={},max depth={},min_samples_leaf={} train_acc={:.2f}, val_acc={:.2f}\".format(tree_criterion[i],max_depth[k],min_samples_leaf[m],train_acc, val_acc))\n",
        "      if val_acc > best_acc:\n",
        "        best_tree_criterion=tree_criterion[i]\n",
        "        best_acc = val_acc\n",
        "        best_max_depth = max_depth[k]\n",
        "        best_min_sample_leaf=min_samples_leaf[m]\n",
        "\n",
        "print(\"best tree criterion={},max depth={},min_samples_leaf={} with val_acc={:.2f}\".format(best_tree_criterion,best_max_depth,best_min_sample_leaf, best_acc))\n"
      ],
      "metadata": {
        "colab": {
          "base_uri": "https://localhost:8080/"
        },
        "id": "y2r-fkEXQo1Z",
        "outputId": "4c28efd2-0f88-415b-ac07-7cf9d9e563a5"
      },
      "execution_count": 21,
      "outputs": [
        {
          "output_type": "stream",
          "name": "stdout",
          "text": [
            "Setting tree criterion=entropy,max depth=300,min_samples_leaf=1 train_acc=0.96, val_acc=0.57\n",
            "Setting tree criterion=entropy,max depth=300,min_samples_leaf=2 train_acc=0.95, val_acc=0.59\n",
            "Setting tree criterion=entropy,max depth=400,min_samples_leaf=1 train_acc=0.96, val_acc=0.57\n",
            "Setting tree criterion=entropy,max depth=400,min_samples_leaf=2 train_acc=0.95, val_acc=0.59\n",
            "Setting tree criterion=entropy,max depth=500,min_samples_leaf=1 train_acc=0.96, val_acc=0.57\n",
            "Setting tree criterion=entropy,max depth=500,min_samples_leaf=2 train_acc=0.95, val_acc=0.59\n",
            "Setting tree criterion=gini,max depth=300,min_samples_leaf=1 train_acc=0.96, val_acc=0.57\n",
            "Setting tree criterion=gini,max depth=300,min_samples_leaf=2 train_acc=0.95, val_acc=0.59\n",
            "Setting tree criterion=gini,max depth=400,min_samples_leaf=1 train_acc=0.96, val_acc=0.57\n",
            "Setting tree criterion=gini,max depth=400,min_samples_leaf=2 train_acc=0.95, val_acc=0.59\n",
            "Setting tree criterion=gini,max depth=500,min_samples_leaf=1 train_acc=0.96, val_acc=0.57\n",
            "Setting tree criterion=gini,max depth=500,min_samples_leaf=2 train_acc=0.95, val_acc=0.59\n",
            "best tree criterion=entropy,max depth=300,min_samples_leaf=2 with val_acc=0.59\n"
          ]
        }
      ]
    },
    {
      "cell_type": "code",
      "source": [
        "clf = DecisionTreeClassifier(random_state=0,criterion=best_tree_criterion, max_depth=best_max_depth,min_samples_leaf=best_min_sample_leaf)\n",
        "clf.fit(x_train,y_train)\n",
        "test_y_pred= clf.predict(x_test)\n",
        "print(\"with tree criterion={}, max depth={}, min_samples_leaf={}\".format(best_tree_criterion,best_max_depth,best_min_sample_leaf))\n",
        "\n",
        "# Model Accuracy\n",
        "print(\"Test Accuracy:\",metrics.accuracy_score(y_test, test_y_pred))\n",
        "# Model Precision\n",
        "print(\"Precision:\",metrics.precision_score(y_test, test_y_pred , average=\"weighted\"))\n",
        "# Model Recall\n",
        "print(\"Recall:\",metrics.recall_score(y_test, test_y_pred, average=\"weighted\"))\n",
        "# Model F1\n",
        "print(\"F1:\",metrics.f1_score(y_test, test_y_pred, average=\"weighted\"))\n",
        "plot_confusion_matrix(clf, x_test, y_test)  \n",
        "plt.show()"
      ],
      "metadata": {
        "id": "_EisaHOotmEY",
        "colab": {
          "base_uri": "https://localhost:8080/",
          "height": 418
        },
        "outputId": "83ea0ed0-1eed-4e4d-8f91-e8b4a1b0b9d6"
      },
      "execution_count": 22,
      "outputs": [
        {
          "output_type": "stream",
          "name": "stdout",
          "text": [
            "with tree criterion=entropy, max depth=300, min_samples_leaf=2\n",
            "Test Accuracy: 0.5982142857142857\n",
            "Precision: 0.5828580870147102\n",
            "Recall: 0.5982142857142857\n",
            "F1: 0.5891684441095986\n"
          ]
        },
        {
          "output_type": "stream",
          "name": "stderr",
          "text": [
            "/usr/local/lib/python3.7/dist-packages/sklearn/utils/deprecation.py:87: FutureWarning: Function plot_confusion_matrix is deprecated; Function `plot_confusion_matrix` is deprecated in 1.0 and will be removed in 1.2. Use one of the class methods: ConfusionMatrixDisplay.from_predictions or ConfusionMatrixDisplay.from_estimator.\n",
            "  warnings.warn(msg, category=FutureWarning)\n"
          ]
        },
        {
          "output_type": "display_data",
          "data": {
            "image/png": "[encoded data removed]",
            "text/plain": [
              "<Figure size 432x288 with 2 Axes>"
            ]
          },
          "metadata": {
            "needs_background": "light"
          }
        }
      ]
    },
    {
      "cell_type": "markdown",
      "source": [
        "**Classifier4: Bagging**"
      ],
      "metadata": {
        "id": "UBR8ILluRa9k"
      }
    },
    {
      "cell_type": "code",
      "source": [
        "from sklearn.ensemble import BaggingClassifier\n",
        "# training and hyper-parameter tuning\n",
        "n_estimators = [100,300,500,600]\n",
        "max_features = [20,30,35]\n",
        "\n",
        "best_score=0\n",
        "val_score=0\n",
        "best_n_estimators= None\n",
        "best_max_features =None\n",
        "for i in range(len(n_estimators)):\n",
        "  for m in range(len(max_features)):\n",
        "    clf = BaggingClassifier(\n",
        "      bootstrap= True,\n",
        "      n_estimators= n_estimators[i],\n",
        "      max_features = max_features[m],\n",
        "      )\n",
        "    clf.fit(x_train,y_train)\n",
        "    train_score = clf.score(x_train,y_train)\n",
        "    val_score = clf.score(x_val,y_val)\n",
        "    print(\"Setting n estimators={},max features={} train_acc={:.2f}, val_acc={:.2f}\".format(n_estimators[i],max_features[m],train_score, val_score))\n",
        "    if val_score > best_score:\n",
        "      best_score = val_score\n",
        "      best_n_estimators= n_estimators[i]\n",
        "      best_max_features =max_features[m]\n",
        "\n",
        "print(\"best n estimators={}, max features={}, val_score={:.2f}\".format(best_n_estimators,best_max_features, best_score))"
      ],
      "metadata": {
        "id": "d_Ov8f3vTCcw",
        "colab": {
          "base_uri": "https://localhost:8080/"
        },
        "outputId": "156b60db-c600-4bb1-bd95-28b5ce344038"
      },
      "execution_count": 23,
      "outputs": [
        {
          "output_type": "stream",
          "name": "stdout",
          "text": [
            "Setting n estimators=100,max features=20 train_acc=0.88, val_acc=0.59\n",
            "Setting n estimators=100,max features=30 train_acc=0.93, val_acc=0.57\n",
            "Setting n estimators=100,max features=35 train_acc=0.92, val_acc=0.59\n",
            "Setting n estimators=300,max features=20 train_acc=0.93, val_acc=0.61\n",
            "Setting n estimators=300,max features=30 train_acc=0.94, val_acc=0.62\n",
            "Setting n estimators=300,max features=35 train_acc=0.94, val_acc=0.60\n",
            "Setting n estimators=500,max features=20 train_acc=0.94, val_acc=0.62\n",
            "Setting n estimators=500,max features=30 train_acc=0.94, val_acc=0.62\n",
            "Setting n estimators=500,max features=35 train_acc=0.94, val_acc=0.62\n",
            "Setting n estimators=600,max features=20 train_acc=0.93, val_acc=0.62\n",
            "Setting n estimators=600,max features=30 train_acc=0.94, val_acc=0.62\n",
            "Setting n estimators=600,max features=35 train_acc=0.94, val_acc=0.62\n",
            "best n estimators=600, max features=20, val_score=0.62\n"
          ]
        }
      ]
    },
    {
      "cell_type": "code",
      "source": [
        "print(\"With n estimators={},max features={}\".format(best_n_estimators,best_max_features))\n",
        "\n",
        "clf = BaggingClassifier(\n",
        "  bootstrap= True,\n",
        "  n_estimators= best_n_estimators,\n",
        "  max_features = best_max_features,\n",
        "  )\n",
        "\n",
        "clf.fit(x_train,y_train)\n",
        "test_y_pred= clf.predict(x_test)\n",
        "\n",
        "# Model Accuracy\n",
        "print(\"Test Accuracy:\",metrics.accuracy_score(y_test, test_y_pred))\n",
        "# Model Precision\n",
        "print(\"Precision:\",metrics.precision_score(y_test, test_y_pred , average=\"weighted\"))\n",
        "# Model Recall\n",
        "print(\"Recall:\",metrics.recall_score(y_test, test_y_pred, average=\"weighted\"))\n",
        "# Model F1\n",
        "print(\"F1:\",metrics.f1_score(y_test, test_y_pred, average=\"weighted\"))\n",
        "plot_confusion_matrix(clf, x_test, y_test)  \n",
        "plt.show()"
      ],
      "metadata": {
        "colab": {
          "base_uri": "https://localhost:8080/",
          "height": 418
        },
        "id": "8zf7id5jTRRn",
        "outputId": "06f1c1fb-5139-49b4-c165-4d85fdea25ee"
      },
      "execution_count": 24,
      "outputs": [
        {
          "output_type": "stream",
          "name": "stdout",
          "text": [
            "With n estimators=600,max features=20\n",
            "Test Accuracy: 0.6232142857142857\n",
            "Precision: 0.5730298392084106\n",
            "Recall: 0.6232142857142857\n",
            "F1: 0.5871737869038195\n"
          ]
        },
        {
          "output_type": "stream",
          "name": "stderr",
          "text": [
            "/usr/local/lib/python3.7/dist-packages/sklearn/utils/deprecation.py:87: FutureWarning: Function plot_confusion_matrix is deprecated; Function `plot_confusion_matrix` is deprecated in 1.0 and will be removed in 1.2. Use one of the class methods: ConfusionMatrixDisplay.from_predictions or ConfusionMatrixDisplay.from_estimator.\n",
            "  warnings.warn(msg, category=FutureWarning)\n"
          ]
        },
        {
          "output_type": "display_data",
          "data": {
            "image/png": "[encoded data removed]",
            "text/plain": [
              "<Figure size 432x288 with 2 Axes>"
            ]
          },
          "metadata": {
            "needs_background": "light"
          }
        }
      ]
    },
    {
      "cell_type": "markdown",
      "source": [
        "**Classifier5: MLP**"
      ],
      "metadata": {
        "id": "wTJPojePRjQW"
      }
    },
    {
      "cell_type": "markdown",
      "source": [
        "**Convert the labels to one hot encoding**"
      ],
      "metadata": {
        "id": "CnP2UootOt1I"
      }
    },
    {
      "cell_type": "code",
      "source": [
        "encoder = LabelBinarizer()\n",
        "y_train_onehot = encoder.fit_transform(y_train)\n",
        "y_val_onehot = encoder.fit_transform(y_val)\n",
        "y_test_onehot = encoder.fit_transform(y_test)"
      ],
      "metadata": {
        "id": "TmcZHcg_Oic6"
      },
      "execution_count": 25,
      "outputs": []
    },
    {
      "cell_type": "code",
      "source": [
        "from sklearn.neural_network import MLPClassifier\n",
        "\n",
        "clf = MLPClassifier(random_state=1,hidden_layer_sizes=(100), max_iter=100)\n"
      ],
      "metadata": {
        "id": "dziLd_9lnTMn"
      },
      "execution_count": 26,
      "outputs": []
    },
    {
      "cell_type": "code",
      "source": [
        "clf.fit(x_train,y_train)\n",
        "test_y_pred= clf.predict(x_test)\n",
        "\n",
        "# Model Accuracy\n",
        "print(\"Test Accuracy:\",metrics.accuracy_score(y_test, test_y_pred))\n",
        "# Model Precision\n",
        "print(\"Precision:\",metrics.precision_score(y_test, test_y_pred , average=\"weighted\"))\n",
        "# Model Recall\n",
        "print(\"Recall:\",metrics.recall_score(y_test, test_y_pred, average=\"weighted\"))\n",
        "# Model F1\n",
        "print(\"F1:\",metrics.f1_score(y_test, test_y_pred, average=\"weighted\"))\n",
        "plot_confusion_matrix(clf, x_test, y_test)  \n",
        "plt.show()"
      ],
      "metadata": {
        "colab": {
          "base_uri": "https://localhost:8080/",
          "height": 435
        },
        "id": "Tl5xWM5nnlhh",
        "outputId": "9f733db9-db74-44ba-f6dc-040f69b7d34a"
      },
      "execution_count": 27,
      "outputs": [
        {
          "output_type": "stream",
          "name": "stderr",
          "text": [
            "/usr/local/lib/python3.7/dist-packages/sklearn/neural_network/_multilayer_perceptron.py:696: ConvergenceWarning: Stochastic Optimizer: Maximum iterations (100) reached and the optimization hasn't converged yet.\n",
            "  ConvergenceWarning,\n",
            "/usr/local/lib/python3.7/dist-packages/sklearn/utils/deprecation.py:87: FutureWarning: Function plot_confusion_matrix is deprecated; Function `plot_confusion_matrix` is deprecated in 1.0 and will be removed in 1.2. Use one of the class methods: ConfusionMatrixDisplay.from_predictions or ConfusionMatrixDisplay.from_estimator.\n",
            "  warnings.warn(msg, category=FutureWarning)\n"
          ]
        },
        {
          "output_type": "stream",
          "name": "stdout",
          "text": [
            "Test Accuracy: 0.6321428571428571\n",
            "Precision: 0.6296697528395456\n",
            "Recall: 0.6321428571428571\n",
            "F1: 0.6306098082976459\n"
          ]
        },
        {
          "output_type": "display_data",
          "data": {
            "image/png": "[encoded data removed]",
            "text/plain": [
              "<Figure size 432x288 with 2 Axes>"
            ]
          },
          "metadata": {
            "needs_background": "light"
          }
        }
      ]
    }
  ]
}